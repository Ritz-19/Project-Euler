{
 "cells": [
  {
   "cell_type": "code",
   "execution_count": 1,
   "id": "50b5f0cf",
   "metadata": {},
   "outputs": [],
   "source": [
    "from math import sqrt\n",
    "\n",
    "def primecheck(num):\n",
    "    #checks if number is prime\n",
    "    \n",
    "    if num <= 1:\n",
    "        return False\n",
    "    \n",
    "    else:\n",
    "        for i in range(2, int(sqrt(num))+1):\n",
    "            if num%i == 0:\n",
    "                return False\n",
    "    \n",
    "    return True"
   ]
  },
  {
   "cell_type": "code",
   "execution_count": 4,
   "id": "1d66b1ed",
   "metadata": {},
   "outputs": [],
   "source": [
    "def nprime(num):\n",
    "    #finds numth prime number\n",
    "    n = 7\n",
    "    check = 3\n",
    "    \n",
    "    while check < num:\n",
    "        if primecheck(n):\n",
    "                check+=1\n",
    "        n+=2\n",
    "    \n",
    "    print(f\"The {check}th Prime number is {n-2}\")"
   ]
  },
  {
   "cell_type": "code",
   "execution_count": 7,
   "id": "65d3de14",
   "metadata": {},
   "outputs": [
    {
     "name": "stdout",
     "output_type": "stream",
     "text": [
      "The 10001th Prime number is 104743\n"
     ]
    }
   ],
   "source": [
    "nprime(10001)"
   ]
  },
  {
   "cell_type": "code",
   "execution_count": null,
   "id": "5595a034",
   "metadata": {},
   "outputs": [],
   "source": []
  }
 ],
 "metadata": {
  "kernelspec": {
   "display_name": "Python 3.9 (tensorflow)",
   "language": "python",
   "name": "tensorflow"
  },
  "language_info": {
   "codemirror_mode": {
    "name": "ipython",
    "version": 3
   },
   "file_extension": ".py",
   "mimetype": "text/x-python",
   "name": "python",
   "nbconvert_exporter": "python",
   "pygments_lexer": "ipython3",
   "version": "3.9.6"
  }
 },
 "nbformat": 4,
 "nbformat_minor": 5
}
